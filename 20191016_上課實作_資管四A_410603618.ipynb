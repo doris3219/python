{
 "cells": [
  {
   "cell_type": "markdown",
   "metadata": {},
   "source": [
    "## 實作練習一"
   ]
  },
  {
   "cell_type": "code",
   "execution_count": 5,
   "metadata": {},
   "outputs": [
    {
     "name": "stdout",
     "output_type": "stream",
     "text": [
      "請輸入成績 : 80\n",
      "甲等\n"
     ]
    }
   ],
   "source": [
    "s = int(input(\"請輸入成績 : \"));\n",
    "if(s>=90):\n",
    "    print(\"優等\");\n",
    "elif(s>=80):\n",
    "    print(\"甲等\");\n",
    "elif(s>=70):\n",
    "    print(\"乙等\");\n",
    "elif(s>=60):\n",
    "    print(\"丙等\");\n",
    "else:\n",
    "    print(\"丁等\");"
   ]
  },
  {
   "cell_type": "markdown",
   "metadata": {},
   "source": [
    "## 實作練習二"
   ]
  },
  {
   "cell_type": "code",
   "execution_count": 24,
   "metadata": {},
   "outputs": [
    {
     "name": "stdout",
     "output_type": "stream",
     "text": [
      "請輸入正整數 : 10\n",
      "1到 10 的整數和為 55\n"
     ]
    }
   ],
   "source": [
    "s = int(input(\"請輸入正整數 : \"));\n",
    "sum = 0\n",
    "for n in range(1,s+1):\n",
    "    sum = sum + n\n",
    "print(\"1到\",s,\"的整數和為\",sum);"
   ]
  },
  {
   "cell_type": "markdown",
   "metadata": {},
   "source": [
    "## 實作練習五"
   ]
  },
  {
   "cell_type": "code",
   "execution_count": 20,
   "metadata": {},
   "outputs": [
    {
     "name": "stdout",
     "output_type": "stream",
     "text": [
      "請輸入正整數 : 10\n",
      "1 2 3 4 6 7 8 9 "
     ]
    }
   ],
   "source": [
    "s = int(input(\"請輸入正整數 : \"));\n",
    "for n in range(1,s+1):\n",
    "    if(n%5!=0):\n",
    "        print(n, end=\" \");"
   ]
  },
  {
   "cell_type": "markdown",
   "metadata": {},
   "source": [
    "## 實作練習六"
   ]
  },
  {
   "cell_type": "code",
   "execution_count": 27,
   "metadata": {},
   "outputs": [
    {
     "name": "stdout",
     "output_type": "stream",
     "text": [
      "請輸入正整數 n 的值5\n",
      "5 != 120\n"
     ]
    }
   ],
   "source": [
    "s = int(input(\"請輸入正整數 n 的值\"));\n",
    "sum = 1;\n",
    "c = 1\n",
    "while(c<=s):\n",
    "    sum = sum *c\n",
    "    c = c+1\n",
    "print(s,'!=',sum)"
   ]
  },
  {
   "cell_type": "code",
   "execution_count": null,
   "metadata": {},
   "outputs": [],
   "source": []
  }
 ],
 "metadata": {
  "kernelspec": {
   "display_name": "Python 3",
   "language": "python",
   "name": "python3"
  },
  "language_info": {
   "codemirror_mode": {
    "name": "ipython",
    "version": 3
   },
   "file_extension": ".py",
   "mimetype": "text/x-python",
   "name": "python",
   "nbconvert_exporter": "python",
   "pygments_lexer": "ipython3",
   "version": "3.7.3"
  }
 },
 "nbformat": 4,
 "nbformat_minor": 2
}
